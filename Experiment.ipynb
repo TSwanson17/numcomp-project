{
 "cells": [
  {
   "cell_type": "code",
   "execution_count": 1,
   "id": "512599b7",
   "metadata": {},
   "outputs": [
    {
     "name": "stderr",
     "output_type": "stream",
     "text": [
      "\u001b[32m\u001b[1m    Updating\u001b[22m\u001b[39m registry at `C:\\Users\\Trist\\.julia\\registries\\General.toml`\n",
      "\u001b[32m\u001b[1m   Resolving\u001b[22m\u001b[39m package versions...\n",
      "\u001b[32m\u001b[1m  No Changes\u001b[22m\u001b[39m to `C:\\Users\\Trist\\.julia\\environments\\v1.7\\Project.toml`\n",
      "\u001b[32m\u001b[1m  No Changes\u001b[22m\u001b[39m to `C:\\Users\\Trist\\.julia\\environments\\v1.7\\Manifest.toml`\n"
     ]
    }
   ],
   "source": [
    "using Pkg;\n",
    "Pkg.add(\"TaylorSeries\");\n",
    "using TaylorSeries;"
   ]
  },
  {
   "cell_type": "code",
   "execution_count": 23,
   "id": "a77b63b4",
   "metadata": {},
   "outputs": [
    {
     "data": {
      "text/plain": [
       " 2.718281828459045 - 1.3591409142295225 t³ - 0.22652348570492045 t⁵ + 0.6795704571147613 t⁶ - 0.06040626285464546 t⁷ + 0.22652348570492042 t⁸ - 0.3014919726405965 t⁹ + 0.07928321999672218 t¹⁰ + 𝒪(t¹¹)"
      ]
     },
     "execution_count": 23,
     "metadata": {},
     "output_type": "execute_result"
    }
   ],
   "source": [
    "#x, y = set_variables(\"x y\", order=4);\n",
    "\n",
    "#eTaylor = taylor_expand(exp, 0, order=10);\n",
    "\n",
    "p(x) = (1 + x^2) / (1 - x^2) * sqrt(1 + x^4)\n",
    "f(t) = cos(t) / (sin(t) + 1)\n",
    "z(x) = exp(cos(x)^x)\n",
    "ct = taylor_expand(z, 0, order=10)"
   ]
  },
  {
   "cell_type": "code",
   "execution_count": 33,
   "id": "744d8fc7",
   "metadata": {},
   "outputs": [
    {
     "data": {
      "text/plain": [
       " 1.0 + 2.718281828459045 t - 0.33978522855738064 t⁴ - 0.03775391428415341 t⁶ + 0.09708149387353733 t⁷ - 0.007550782856830683 t⁸ + 0.025169276189435603 t⁹ - 0.03014919726405965 t¹⁰ + 𝒪(t¹¹)"
      ]
     },
     "execution_count": 33,
     "metadata": {},
     "output_type": "execute_result"
    }
   ],
   "source": [
    "iis =integrate(ct, 1)\n"
   ]
  },
  {
   "cell_type": "code",
   "execution_count": 34,
   "id": "64774874",
   "metadata": {},
   "outputs": [
    {
     "name": "stdout",
     "output_type": "stream",
     "text": [
      "  0.000002 seconds (1 allocation: 144 bytes)\n"
     ]
    },
    {
     "data": {
      "text/plain": [
       " 1.0 + 2.718281828459045 t - 0.33978522855738064 t⁴ - 0.03775391428415341 t⁶ + 0.09708149387353733 t⁷ - 0.007550782856830683 t⁸ + 0.025169276189435603 t⁹ - 0.03014919726405965 t¹⁰ + 𝒪(t¹¹)"
      ]
     },
     "execution_count": 34,
     "metadata": {},
     "output_type": "execute_result"
    }
   ],
   "source": [
    "function it(f)\n",
    "    @time integrate(f, 1)\n",
    "end\n",
    "it(ct)"
   ]
  },
  {
   "cell_type": "code",
   "execution_count": 41,
   "id": "f4e20404",
   "metadata": {},
   "outputs": [
    {
     "data": {
      "text/plain": [
       "d (generic function with 1 method)"
      ]
     },
     "execution_count": 41,
     "metadata": {},
     "output_type": "execute_result"
    }
   ],
   "source": [
    "a(x, y) = taylor_expand(cos(x) * sin(y), 0, order=5)\n",
    "b(x, y) = taylor_expand(cos(x) / sin(y), 0, order=5)\n",
    "\n",
    "c(x, y) = x * y\n",
    "d(x, y) = x * y"
   ]
  },
  {
   "cell_type": "code",
   "execution_count": 42,
   "id": "5a45b3c9",
   "metadata": {},
   "outputs": [
    {
     "name": "stdout",
     "output_type": "stream",
     "text": [
      "Any[c, d]"
     ]
    },
    {
     "ename": "LoadError",
     "evalue": "UndefVarError: jacobian not defined",
     "output_type": "error",
     "traceback": [
      "UndefVarError: jacobian not defined",
      "",
      "Stacktrace:",
      " [1] top-level scope",
      "   @ In[42]:8",
      " [2] eval",
      "   @ .\\boot.jl:373 [inlined]",
      " [3] include_string(mapexpr::typeof(REPL.softscope), mod::Module, code::String, filename::String)",
      "   @ Base .\\loading.jl:1196"
     ]
    }
   ],
   "source": [
    "\n",
    "\n",
    "vf = []\n",
    "push!(vf, c)\n",
    "push!(vf, d)\n",
    "print(vf)\n",
    "\n",
    "jacobian(vf, [1, 2])"
   ]
  },
  {
   "cell_type": "code",
   "execution_count": null,
   "id": "eb849fb0",
   "metadata": {},
   "outputs": [],
   "source": []
  }
 ],
 "metadata": {
  "kernelspec": {
   "display_name": "Julia 1.7.2",
   "language": "julia",
   "name": "julia-1.7"
  },
  "language_info": {
   "file_extension": ".jl",
   "mimetype": "application/julia",
   "name": "julia",
   "version": "1.7.2"
  }
 },
 "nbformat": 4,
 "nbformat_minor": 5
}
