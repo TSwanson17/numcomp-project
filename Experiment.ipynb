{
 "cells": [
  {
   "cell_type": "code",
   "execution_count": 1,
   "id": "512599b7",
   "metadata": {},
   "outputs": [
    {
     "name": "stderr",
     "output_type": "stream",
     "text": [
      "\u001b[32m\u001b[1m    Updating\u001b[22m\u001b[39m registry at `C:\\Users\\Trist\\.julia\\registries\\General.toml`\n",
      "\u001b[32m\u001b[1m   Resolving\u001b[22m\u001b[39m package versions...\n",
      "\u001b[32m\u001b[1m  No Changes\u001b[22m\u001b[39m to `C:\\Users\\Trist\\.julia\\environments\\v1.7\\Project.toml`\n",
      "\u001b[32m\u001b[1m  No Changes\u001b[22m\u001b[39m to `C:\\Users\\Trist\\.julia\\environments\\v1.7\\Manifest.toml`\n"
     ]
    }
   ],
   "source": [
    "using Pkg;\n",
    "Pkg.add(\"TaylorSeries\");\n",
    "using TaylorSeries;\n",
    "using Plots;\n",
    "using Printf;"
   ]
  },
  {
   "cell_type": "code",
   "execution_count": 24,
   "id": "a77b63b4",
   "metadata": {},
   "outputs": [
    {
     "ename": "LoadError",
     "evalue": "AssertionError: get_numvars() == length(vals)",
     "output_type": "error",
     "traceback": [
      "AssertionError: get_numvars() == length(vals)",
      "",
      "Stacktrace:",
      " [1] _evaluate(a::TaylorN{Float64}, vals::NTuple{11, Int64})",
      "   @ TaylorSeries C:\\Users\\Trist\\.julia\\packages\\TaylorSeries\\vTIIX\\src\\evaluate.jl:228",
      " [2] _evaluate(a::TaylorN{Float64}, vals::NTuple{11, Int64}, #unused#::Val{true})",
      "   @ TaylorSeries C:\\Users\\Trist\\.julia\\packages\\TaylorSeries\\vTIIX\\src\\evaluate.jl:239",
      " [3] evaluate(a::TaylorN{Float64}, vals::Taylor1{Int64}; sorting::Bool)",
      "   @ TaylorSeries C:\\Users\\Trist\\.julia\\packages\\TaylorSeries\\vTIIX\\src\\evaluate.jl:222",
      " [4] evaluate",
      "   @ C:\\Users\\Trist\\.julia\\packages\\TaylorSeries\\vTIIX\\src\\evaluate.jl:222 [inlined]",
      " [5] TaylorN",
      "   @ C:\\Users\\Trist\\.julia\\packages\\TaylorSeries\\vTIIX\\src\\evaluate.jl:327 [inlined]",
      " [6] taylor_expand(f::TaylorN{Float64}, x0::Int64; order::Int64)",
      "   @ TaylorSeries C:\\Users\\Trist\\.julia\\packages\\TaylorSeries\\vTIIX\\src\\other_functions.jl:225",
      " [7] top-level scope",
      "   @ In[24]:8",
      " [8] eval",
      "   @ .\\boot.jl:373 [inlined]",
      " [9] include_string(mapexpr::typeof(REPL.softscope), mod::Module, code::String, filename::String)",
      "   @ Base .\\loading.jl:1196"
     ]
    }
   ],
   "source": [
    "#x, y = set_variables(\"x y\", order=4);\n",
    "\n",
    "#eTaylor = taylor_expand(exp, 0, order=10);\n",
    "\n",
    "p(x) = (1 + x^2) / (1 - x^2) * sqrt(1 + x^4)\n",
    "f(t) = cos(t) / (sin(t) + 1)\n",
    "zz(x) = exp(x)\n",
    "ct = taylor_expand(z, 0, order=10)"
   ]
  },
  {
   "cell_type": "code",
   "execution_count": 21,
   "id": "246989ee",
   "metadata": {},
   "outputs": [
    {
     "ename": "LoadError",
     "evalue": "MethodError: no method matching integrate(::typeof(zz), ::Int64)\n\u001b[0mClosest candidates are:\n\u001b[0m  integrate(\u001b[91m::Taylor1{T}\u001b[39m, ::S) where {T<:Number, S<:Number} at C:\\Users\\Trist\\.julia\\packages\\TaylorSeries\\vTIIX\\src\\calculus.jl:105\n\u001b[0m  integrate(\u001b[91m::HomogeneousPolynomial\u001b[39m, ::Int64) at C:\\Users\\Trist\\.julia\\packages\\TaylorSeries\\vTIIX\\src\\calculus.jl:354\n\u001b[0m  integrate(\u001b[91m::TaylorN\u001b[39m, ::Int64) at C:\\Users\\Trist\\.julia\\packages\\TaylorSeries\\vTIIX\\src\\calculus.jl:389\n\u001b[0m  ...",
     "output_type": "error",
     "traceback": [
      "MethodError: no method matching integrate(::typeof(zz), ::Int64)\n\u001b[0mClosest candidates are:\n\u001b[0m  integrate(\u001b[91m::Taylor1{T}\u001b[39m, ::S) where {T<:Number, S<:Number} at C:\\Users\\Trist\\.julia\\packages\\TaylorSeries\\vTIIX\\src\\calculus.jl:105\n\u001b[0m  integrate(\u001b[91m::HomogeneousPolynomial\u001b[39m, ::Int64) at C:\\Users\\Trist\\.julia\\packages\\TaylorSeries\\vTIIX\\src\\calculus.jl:354\n\u001b[0m  integrate(\u001b[91m::TaylorN\u001b[39m, ::Int64) at C:\\Users\\Trist\\.julia\\packages\\TaylorSeries\\vTIIX\\src\\calculus.jl:389\n\u001b[0m  ...",
      "",
      "Stacktrace:",
      " [1] top-level scope",
      "   @ In[21]:1",
      " [2] eval",
      "   @ .\\boot.jl:373 [inlined]",
      " [3] include_string(mapexpr::typeof(REPL.softscope), mod::Module, code::String, filename::String)",
      "   @ Base .\\loading.jl:1196"
     ]
    }
   ],
   "source": [
    "iis =integrate(, 1)\n"
   ]
  },
  {
   "cell_type": "code",
   "execution_count": 6,
   "id": "b6af0679",
   "metadata": {},
   "outputs": [
    {
     "ename": "LoadError",
     "evalue": "UndefVarError: ct not defined",
     "output_type": "error",
     "traceback": [
      "UndefVarError: ct not defined",
      "",
      "Stacktrace:",
      " [1] top-level scope",
      "   @ In[6]:4",
      " [2] eval",
      "   @ .\\boot.jl:373 [inlined]",
      " [3] include_string(mapexpr::typeof(REPL.softscope), mod::Module, code::String, filename::String)",
      "   @ Base .\\loading.jl:1196"
     ]
    }
   ],
   "source": [
    "function it(f)\n",
    "    @time integrate(f, 1)\n",
    "end\n",
    "it(ct)"
   ]
  },
  {
   "cell_type": "code",
   "execution_count": 7,
   "id": "17962d2b",
   "metadata": {},
   "outputs": [
    {
     "data": {
      "text/plain": [
       "d (generic function with 1 method)"
      ]
     },
     "execution_count": 7,
     "metadata": {},
     "output_type": "execute_result"
    }
   ],
   "source": [
    "a(x, y) = taylor_expand(cos(x) * sin(y), 0, order=5)\n",
    "b(x, y) = taylor_expand(cos(x) / sin(y), 0, order=5)\n",
    "\n",
    "c(x, y) = x * y\n",
    "d(x, y) = x * y"
   ]
  },
  {
   "cell_type": "code",
   "execution_count": 8,
   "id": "35a4aef4",
   "metadata": {},
   "outputs": [
    {
     "name": "stdout",
     "output_type": "stream",
     "text": [
      "Any[c, d]"
     ]
    },
    {
     "ename": "LoadError",
     "evalue": "UndefVarError: jacobian not defined",
     "output_type": "error",
     "traceback": [
      "UndefVarError: jacobian not defined",
      "",
      "Stacktrace:",
      " [1] top-level scope",
      "   @ In[8]:8",
      " [2] eval",
      "   @ .\\boot.jl:373 [inlined]",
      " [3] include_string(mapexpr::typeof(REPL.softscope), mod::Module, code::String, filename::String)",
      "   @ Base .\\loading.jl:1196"
     ]
    }
   ],
   "source": [
    "\n",
    "\n",
    "vf = []\n",
    "push!(vf, c)\n",
    "push!(vf, d)\n",
    "print(vf)\n",
    "\n",
    "jacobian(vf, [1, 2])"
   ]
  },
  {
   "cell_type": "code",
   "execution_count": 4,
   "id": "34207742",
   "metadata": {},
   "outputs": [
    {
     "data": {
      "text/plain": [
       "1-element Vector{TaylorN{Float64}}:\n",
       "  1.0 x + 𝒪(‖x‖²)"
      ]
     },
     "execution_count": 4,
     "metadata": {},
     "output_type": "execute_result"
    }
   ],
   "source": [
    "x = set_variables(\"x\", order=1)"
   ]
  },
  {
   "cell_type": "code",
   "execution_count": 5,
   "id": "2a87a22e",
   "metadata": {
    "scrolled": true
   },
   "outputs": [
    {
     "data": {
      "text/plain": [
       "createFunctions (generic function with 1 method)"
      ]
     },
     "execution_count": 5,
     "metadata": {},
     "output_type": "execute_result"
    }
   ],
   "source": [
    "function createFunctions(n)\n",
    "    # n i number of functions\n",
    "    vfs = []\n",
    "    for i in 1:n\n",
    "        if i == 1\n",
    "            push!(vfs, taylor_expand(x -> sin(x) + 1, 0, order=3+i))\n",
    "        else\n",
    "            # Functions are defined recusively to ensure increasing compexity\n",
    "            if i % 2 == 0\n",
    "                push!(vfs, taylor_expand(x -> 1 / vfs[i-1](x), 0, order=3+i))\n",
    "            else\n",
    "                push!(vfs, taylor_expand(x -> exp(vfs[i-1](x)) / exp(vfs[i-2](x)), 0, order=3+i))\n",
    "            end\n",
    "        end\n",
    "        if isnan(getcoeff(vfs[i], 1))\n",
    "            @printf(\"Calculated a NaN coefficent after %d iterations\\n\", i)\n",
    "            pop!(vfs)\n",
    "            break\n",
    "        end\n",
    "    end\n",
    "    \n",
    "    return vfs\n",
    "end"
   ]
  },
  {
   "cell_type": "code",
   "execution_count": 6,
   "id": "a6752ed2",
   "metadata": {},
   "outputs": [
    {
     "name": "stdout",
     "output_type": "stream",
     "text": [
      "Calculated a NaN coefficent after 516 iterations\n",
      "vfs[512] =  1.0 + 5.78960446186581e76 t + 1.6759759912428243e153 t² + 4.3125502563908536e229 t³ + 1.0923482590309185e306 t⁴ + 𝒪(t⁵)\n",
      "  0.058463 seconds (280.43 k allocations: 16.041 MiB, 11.39% gc time, 99.83% compilation time)\n"
     ]
    }
   ],
   "source": [
    "function integrateAll(funcVec)\n",
    "    for f in funcVec\n",
    "        integrate(f, 1)\n",
    "    end\n",
    "end\n",
    "\n",
    "vfs = createFunctions(1000)\n",
    "#println(length(vfs))\n",
    "@show vfs[512]\n",
    "@time integrateAll(vfs)"
   ]
  },
  {
   "cell_type": "code",
   "execution_count": 8,
   "id": "3746584b",
   "metadata": {},
   "outputs": [
    {
     "name": "stdout",
     "output_type": "stream",
     "text": [
      "Calculated a NaN coefficent after 516 iterations\n"
     ]
    }
   ],
   "source": [
    "### Timing\n",
    "\n",
    "function timef(funcmaker, n)\n",
    "    x = funcmaker(n)\n",
    "    times = []\n",
    "    for func in x\n",
    "        t = @timed integrate(func, 1)\n",
    "        push!(times, t.time)\n",
    "    end\n",
    "    return times\n",
    "end\n",
    "\n",
    "t = timef(createFunctions, 1000);\n"
   ]
  },
  {
   "cell_type": "code",
   "execution_count": 15,
   "id": "6ea677ef",
   "metadata": {
    "scrolled": false
   },
   "outputs": [
    {
     "name": "stdout",
     "output_type": "stream",
     "text": [
      "t[1] = 2.1e-6\n",
      "t[2] = 3.0e-7\n"
     ]
    },
    {
     "data": {
      "image/svg+xml": [
       "<?xml version=\"1.0\" encoding=\"utf-8\"?>\n",
       "<svg xmlns=\"http://www.w3.org/2000/svg\" xmlns:xlink=\"http://www.w3.org/1999/xlink\" width=\"600\" height=\"400\" viewBox=\"0 0 2400 1600\">\n",
       "<defs>\n",
       "  <clipPath id=\"clip380\">\n",
       "    <rect x=\"0\" y=\"0\" width=\"2400\" height=\"1600\"/>\n",
       "  </clipPath>\n",
       "</defs>\n",
       "<path clip-path=\"url(#clip380)\" d=\"\n",
       "M0 1600 L2400 1600 L2400 0 L0 0  Z\n",
       "  \" fill=\"#ffffff\" fill-rule=\"evenodd\" fill-opacity=\"1\"/>\n",
       "<defs>\n",
       "  <clipPath id=\"clip381\">\n",
       "    <rect x=\"480\" y=\"0\" width=\"1681\" height=\"1600\"/>\n",
       "  </clipPath>\n",
       "</defs>\n",
       "<path clip-path=\"url(#clip380)\" d=\"\n",
       "M336.246 1486.45 L2352.76 1486.45 L2352.76 47.2441 L336.246 47.2441  Z\n",
       "  \" fill=\"#ffffff\" fill-rule=\"evenodd\" fill-opacity=\"1\"/>\n",
       "<defs>\n",
       "  <clipPath id=\"clip382\">\n",
       "    <rect x=\"336\" y=\"47\" width=\"2018\" height=\"1440\"/>\n",
       "  </clipPath>\n",
       "</defs>\n",
       "<polyline clip-path=\"url(#clip382)\" style=\"stroke:#000000; stroke-linecap:butt; stroke-linejoin:round; stroke-width:2; stroke-opacity:0.1; fill:none\" points=\"\n",
       "  389.616,1486.45 389.616,47.2441 \n",
       "  \"/>\n",
       "<polyline clip-path=\"url(#clip382)\" style=\"stroke:#000000; stroke-linecap:butt; stroke-linejoin:round; stroke-width:2; stroke-opacity:0.1; fill:none\" points=\"\n",
       "  759.726,1486.45 759.726,47.2441 \n",
       "  \"/>\n",
       "<polyline clip-path=\"url(#clip382)\" style=\"stroke:#000000; stroke-linecap:butt; stroke-linejoin:round; stroke-width:2; stroke-opacity:0.1; fill:none\" points=\"\n",
       "  1129.84,1486.45 1129.84,47.2441 \n",
       "  \"/>\n",
       "<polyline clip-path=\"url(#clip382)\" style=\"stroke:#000000; stroke-linecap:butt; stroke-linejoin:round; stroke-width:2; stroke-opacity:0.1; fill:none\" points=\"\n",
       "  1499.95,1486.45 1499.95,47.2441 \n",
       "  \"/>\n",
       "<polyline clip-path=\"url(#clip382)\" style=\"stroke:#000000; stroke-linecap:butt; stroke-linejoin:round; stroke-width:2; stroke-opacity:0.1; fill:none\" points=\"\n",
       "  1870.06,1486.45 1870.06,47.2441 \n",
       "  \"/>\n",
       "<polyline clip-path=\"url(#clip382)\" style=\"stroke:#000000; stroke-linecap:butt; stroke-linejoin:round; stroke-width:2; stroke-opacity:0.1; fill:none\" points=\"\n",
       "  2240.17,1486.45 2240.17,47.2441 \n",
       "  \"/>\n",
       "<polyline clip-path=\"url(#clip380)\" style=\"stroke:#000000; stroke-linecap:butt; stroke-linejoin:round; stroke-width:4; stroke-opacity:1; fill:none\" points=\"\n",
       "  336.246,1486.45 2352.76,1486.45 \n",
       "  \"/>\n",
       "<polyline clip-path=\"url(#clip380)\" style=\"stroke:#000000; stroke-linecap:butt; stroke-linejoin:round; stroke-width:4; stroke-opacity:1; fill:none\" points=\"\n",
       "  389.616,1486.45 389.616,1467.55 \n",
       "  \"/>\n",
       "<polyline clip-path=\"url(#clip380)\" style=\"stroke:#000000; stroke-linecap:butt; stroke-linejoin:round; stroke-width:4; stroke-opacity:1; fill:none\" points=\"\n",
       "  759.726,1486.45 759.726,1467.55 \n",
       "  \"/>\n",
       "<polyline clip-path=\"url(#clip380)\" style=\"stroke:#000000; stroke-linecap:butt; stroke-linejoin:round; stroke-width:4; stroke-opacity:1; fill:none\" points=\"\n",
       "  1129.84,1486.45 1129.84,1467.55 \n",
       "  \"/>\n",
       "<polyline clip-path=\"url(#clip380)\" style=\"stroke:#000000; stroke-linecap:butt; stroke-linejoin:round; stroke-width:4; stroke-opacity:1; fill:none\" points=\"\n",
       "  1499.95,1486.45 1499.95,1467.55 \n",
       "  \"/>\n",
       "<polyline clip-path=\"url(#clip380)\" style=\"stroke:#000000; stroke-linecap:butt; stroke-linejoin:round; stroke-width:4; stroke-opacity:1; fill:none\" points=\"\n",
       "  1870.06,1486.45 1870.06,1467.55 \n",
       "  \"/>\n",
       "<polyline clip-path=\"url(#clip380)\" style=\"stroke:#000000; stroke-linecap:butt; stroke-linejoin:round; stroke-width:4; stroke-opacity:1; fill:none\" points=\"\n",
       "  2240.17,1486.45 2240.17,1467.55 \n",
       "  \"/>\n",
       "<path clip-path=\"url(#clip380)\" d=\"M389.616 1517.37 Q386.005 1517.37 384.176 1520.93 Q382.37 1524.47 382.37 1531.6 Q382.37 1538.71 384.176 1542.27 Q386.005 1545.82 389.616 1545.82 Q393.25 1545.82 395.055 1542.27 Q396.884 1538.71 396.884 1531.6 Q396.884 1524.47 395.055 1520.93 Q393.25 1517.37 389.616 1517.37 M389.616 1513.66 Q395.426 1513.66 398.481 1518.27 Q401.56 1522.85 401.56 1531.6 Q401.56 1540.33 398.481 1544.94 Q395.426 1549.52 389.616 1549.52 Q383.805 1549.52 380.727 1544.94 Q377.671 1540.33 377.671 1531.6 Q377.671 1522.85 380.727 1518.27 Q383.805 1513.66 389.616 1513.66 Z\" fill=\"#000000\" fill-rule=\"evenodd\" fill-opacity=\"1\" /><path clip-path=\"url(#clip380)\" d=\"M719.333 1544.91 L726.972 1544.91 L726.972 1518.55 L718.662 1520.21 L718.662 1515.95 L726.925 1514.29 L731.601 1514.29 L731.601 1544.91 L739.24 1544.91 L739.24 1548.85 L719.333 1548.85 L719.333 1544.91 Z\" fill=\"#000000\" fill-rule=\"evenodd\" fill-opacity=\"1\" /><path clip-path=\"url(#clip380)\" d=\"M758.685 1517.37 Q755.073 1517.37 753.245 1520.93 Q751.439 1524.47 751.439 1531.6 Q751.439 1538.71 753.245 1542.27 Q755.073 1545.82 758.685 1545.82 Q762.319 1545.82 764.124 1542.27 Q765.953 1538.71 765.953 1531.6 Q765.953 1524.47 764.124 1520.93 Q762.319 1517.37 758.685 1517.37 M758.685 1513.66 Q764.495 1513.66 767.55 1518.27 Q770.629 1522.85 770.629 1531.6 Q770.629 1540.33 767.55 1544.94 Q764.495 1549.52 758.685 1549.52 Q752.874 1549.52 749.796 1544.94 Q746.74 1540.33 746.74 1531.6 Q746.74 1522.85 749.796 1518.27 Q752.874 1513.66 758.685 1513.66 Z\" fill=\"#000000\" fill-rule=\"evenodd\" fill-opacity=\"1\" /><path clip-path=\"url(#clip380)\" d=\"M788.846 1517.37 Q785.235 1517.37 783.407 1520.93 Q781.601 1524.47 781.601 1531.6 Q781.601 1538.71 783.407 1542.27 Q785.235 1545.82 788.846 1545.82 Q792.481 1545.82 794.286 1542.27 Q796.115 1538.71 796.115 1531.6 Q796.115 1524.47 794.286 1520.93 Q792.481 1517.37 788.846 1517.37 M788.846 1513.66 Q794.657 1513.66 797.712 1518.27 Q800.791 1522.85 800.791 1531.6 Q800.791 1540.33 797.712 1544.94 Q794.657 1549.52 788.846 1549.52 Q783.036 1549.52 779.958 1544.94 Q776.902 1540.33 776.902 1531.6 Q776.902 1522.85 779.958 1518.27 Q783.036 1513.66 788.846 1513.66 Z\" fill=\"#000000\" fill-rule=\"evenodd\" fill-opacity=\"1\" /><path clip-path=\"url(#clip380)\" d=\"M1093.53 1544.91 L1109.85 1544.91 L1109.85 1548.85 L1087.9 1548.85 L1087.9 1544.91 Q1090.57 1542.16 1095.15 1537.53 Q1099.76 1532.88 1100.94 1531.53 Q1103.18 1529.01 1104.06 1527.27 Q1104.96 1525.51 1104.96 1523.82 Q1104.96 1521.07 1103.02 1519.33 Q1101.1 1517.6 1098 1517.6 Q1095.8 1517.6 1093.34 1518.36 Q1090.91 1519.13 1088.14 1520.68 L1088.14 1515.95 Q1090.96 1514.82 1093.41 1514.24 Q1095.87 1513.66 1097.9 1513.66 Q1103.27 1513.66 1106.47 1516.35 Q1109.66 1519.03 1109.66 1523.52 Q1109.66 1525.65 1108.85 1527.57 Q1108.07 1529.47 1105.96 1532.07 Q1105.38 1532.74 1102.28 1535.95 Q1099.18 1539.15 1093.53 1544.91 Z\" fill=\"#000000\" fill-rule=\"evenodd\" fill-opacity=\"1\" /><path clip-path=\"url(#clip380)\" d=\"M1129.66 1517.37 Q1126.05 1517.37 1124.22 1520.93 Q1122.42 1524.47 1122.42 1531.6 Q1122.42 1538.71 1124.22 1542.27 Q1126.05 1545.82 1129.66 1545.82 Q1133.3 1545.82 1135.1 1542.27 Q1136.93 1538.71 1136.93 1531.6 Q1136.93 1524.47 1135.1 1520.93 Q1133.3 1517.37 1129.66 1517.37 M1129.66 1513.66 Q1135.47 1513.66 1138.53 1518.27 Q1141.61 1522.85 1141.61 1531.6 Q1141.61 1540.33 1138.53 1544.94 Q1135.47 1549.52 1129.66 1549.52 Q1123.85 1549.52 1120.77 1544.94 Q1117.72 1540.33 1117.72 1531.6 Q1117.72 1522.85 1120.77 1518.27 Q1123.85 1513.66 1129.66 1513.66 Z\" fill=\"#000000\" fill-rule=\"evenodd\" fill-opacity=\"1\" /><path clip-path=\"url(#clip380)\" d=\"M1159.82 1517.37 Q1156.21 1517.37 1154.39 1520.93 Q1152.58 1524.47 1152.58 1531.6 Q1152.58 1538.71 1154.39 1542.27 Q1156.21 1545.82 1159.82 1545.82 Q1163.46 1545.82 1165.26 1542.27 Q1167.09 1538.71 1167.09 1531.6 Q1167.09 1524.47 1165.26 1520.93 Q1163.46 1517.37 1159.82 1517.37 M1159.82 1513.66 Q1165.64 1513.66 1168.69 1518.27 Q1171.77 1522.85 1171.77 1531.6 Q1171.77 1540.33 1168.69 1544.94 Q1165.64 1549.52 1159.82 1549.52 Q1154.01 1549.52 1150.94 1544.94 Q1147.88 1540.33 1147.88 1531.6 Q1147.88 1522.85 1150.94 1518.27 Q1154.01 1513.66 1159.82 1513.66 Z\" fill=\"#000000\" fill-rule=\"evenodd\" fill-opacity=\"1\" /><path clip-path=\"url(#clip380)\" d=\"M1473.71 1530.21 Q1477.07 1530.93 1478.94 1533.2 Q1480.84 1535.47 1480.84 1538.8 Q1480.84 1543.92 1477.32 1546.72 Q1473.8 1549.52 1467.32 1549.52 Q1465.14 1549.52 1462.83 1549.08 Q1460.54 1548.66 1458.08 1547.81 L1458.08 1543.29 Q1460.03 1544.43 1462.34 1545.01 Q1464.66 1545.58 1467.18 1545.58 Q1471.58 1545.58 1473.87 1543.85 Q1476.19 1542.11 1476.19 1538.8 Q1476.19 1535.75 1474.03 1534.03 Q1471.9 1532.3 1468.08 1532.3 L1464.06 1532.3 L1464.06 1528.45 L1468.27 1528.45 Q1471.72 1528.45 1473.55 1527.09 Q1475.38 1525.7 1475.38 1523.11 Q1475.38 1520.45 1473.48 1519.03 Q1471.6 1517.6 1468.08 1517.6 Q1466.16 1517.6 1463.96 1518.01 Q1461.76 1518.43 1459.13 1519.31 L1459.13 1515.14 Q1461.79 1514.4 1464.1 1514.03 Q1466.44 1513.66 1468.5 1513.66 Q1473.82 1513.66 1476.93 1516.09 Q1480.03 1518.5 1480.03 1522.62 Q1480.03 1525.49 1478.38 1527.48 Q1476.74 1529.45 1473.71 1530.21 Z\" fill=\"#000000\" fill-rule=\"evenodd\" fill-opacity=\"1\" /><path clip-path=\"url(#clip380)\" d=\"M1499.7 1517.37 Q1496.09 1517.37 1494.26 1520.93 Q1492.46 1524.47 1492.46 1531.6 Q1492.46 1538.71 1494.26 1542.27 Q1496.09 1545.82 1499.7 1545.82 Q1503.34 1545.82 1505.14 1542.27 Q1506.97 1538.71 1506.97 1531.6 Q1506.97 1524.47 1505.14 1520.93 Q1503.34 1517.37 1499.7 1517.37 M1499.7 1513.66 Q1505.51 1513.66 1508.57 1518.27 Q1511.65 1522.85 1511.65 1531.6 Q1511.65 1540.33 1508.57 1544.94 Q1505.51 1549.52 1499.7 1549.52 Q1493.89 1549.52 1490.82 1544.94 Q1487.76 1540.33 1487.76 1531.6 Q1487.76 1522.85 1490.82 1518.27 Q1493.89 1513.66 1499.7 1513.66 Z\" fill=\"#000000\" fill-rule=\"evenodd\" fill-opacity=\"1\" /><path clip-path=\"url(#clip380)\" d=\"M1529.87 1517.37 Q1526.25 1517.37 1524.43 1520.93 Q1522.62 1524.47 1522.62 1531.6 Q1522.62 1538.71 1524.43 1542.27 Q1526.25 1545.82 1529.87 1545.82 Q1533.5 1545.82 1535.31 1542.27 Q1537.13 1538.71 1537.13 1531.6 Q1537.13 1524.47 1535.31 1520.93 Q1533.5 1517.37 1529.87 1517.37 M1529.87 1513.66 Q1535.68 1513.66 1538.73 1518.27 Q1541.81 1522.85 1541.81 1531.6 Q1541.81 1540.33 1538.73 1544.94 Q1535.68 1549.52 1529.87 1549.52 Q1524.06 1549.52 1520.98 1544.94 Q1517.92 1540.33 1517.92 1531.6 Q1517.92 1522.85 1520.98 1518.27 Q1524.06 1513.66 1529.87 1513.66 Z\" fill=\"#000000\" fill-rule=\"evenodd\" fill-opacity=\"1\" /><path clip-path=\"url(#clip380)\" d=\"M1843.15 1518.36 L1831.34 1536.81 L1843.15 1536.81 L1843.15 1518.36 M1841.92 1514.29 L1847.8 1514.29 L1847.8 1536.81 L1852.73 1536.81 L1852.73 1540.7 L1847.8 1540.7 L1847.8 1548.85 L1843.15 1548.85 L1843.15 1540.7 L1827.55 1540.7 L1827.55 1536.19 L1841.92 1514.29 Z\" fill=\"#000000\" fill-rule=\"evenodd\" fill-opacity=\"1\" /><path clip-path=\"url(#clip380)\" d=\"M1870.46 1517.37 Q1866.85 1517.37 1865.02 1520.93 Q1863.22 1524.47 1863.22 1531.6 Q1863.22 1538.71 1865.02 1542.27 Q1866.85 1545.82 1870.46 1545.82 Q1874.1 1545.82 1875.9 1542.27 Q1877.73 1538.71 1877.73 1531.6 Q1877.73 1524.47 1875.9 1520.93 Q1874.1 1517.37 1870.46 1517.37 M1870.46 1513.66 Q1876.27 1513.66 1879.33 1518.27 Q1882.41 1522.85 1882.41 1531.6 Q1882.41 1540.33 1879.33 1544.94 Q1876.27 1549.52 1870.46 1549.52 Q1864.65 1549.52 1861.57 1544.94 Q1858.52 1540.33 1858.52 1531.6 Q1858.52 1522.85 1861.57 1518.27 Q1864.65 1513.66 1870.46 1513.66 Z\" fill=\"#000000\" fill-rule=\"evenodd\" fill-opacity=\"1\" /><path clip-path=\"url(#clip380)\" d=\"M1900.62 1517.37 Q1897.01 1517.37 1895.18 1520.93 Q1893.38 1524.47 1893.38 1531.6 Q1893.38 1538.71 1895.18 1542.27 Q1897.01 1545.82 1900.62 1545.82 Q1904.26 1545.82 1906.06 1542.27 Q1907.89 1538.71 1907.89 1531.6 Q1907.89 1524.47 1906.06 1520.93 Q1904.26 1517.37 1900.62 1517.37 M1900.62 1513.66 Q1906.43 1513.66 1909.49 1518.27 Q1912.57 1522.85 1912.57 1531.6 Q1912.57 1540.33 1909.49 1544.94 Q1906.43 1549.52 1900.62 1549.52 Q1894.81 1549.52 1891.74 1544.94 Q1888.68 1540.33 1888.68 1531.6 Q1888.68 1522.85 1891.74 1518.27 Q1894.81 1513.66 1900.62 1513.66 Z\" fill=\"#000000\" fill-rule=\"evenodd\" fill-opacity=\"1\" /><path clip-path=\"url(#clip380)\" d=\"M2199.79 1514.29 L2218.14 1514.29 L2218.14 1518.22 L2204.07 1518.22 L2204.07 1526.7 Q2205.09 1526.35 2206.11 1526.19 Q2207.12 1526 2208.14 1526 Q2213.93 1526 2217.31 1529.17 Q2220.69 1532.34 2220.69 1537.76 Q2220.69 1543.34 2217.22 1546.44 Q2213.74 1549.52 2207.43 1549.52 Q2205.25 1549.52 2202.98 1549.15 Q2200.74 1548.78 2198.33 1548.04 L2198.33 1543.34 Q2200.41 1544.47 2202.63 1545.03 Q2204.86 1545.58 2207.33 1545.58 Q2211.34 1545.58 2213.68 1543.48 Q2216.01 1541.37 2216.01 1537.76 Q2216.01 1534.15 2213.68 1532.04 Q2211.34 1529.94 2207.33 1529.94 Q2205.46 1529.94 2203.58 1530.35 Q2201.73 1530.77 2199.79 1531.65 L2199.79 1514.29 Z\" fill=\"#000000\" fill-rule=\"evenodd\" fill-opacity=\"1\" /><path clip-path=\"url(#clip380)\" d=\"M2239.9 1517.37 Q2236.29 1517.37 2234.46 1520.93 Q2232.66 1524.47 2232.66 1531.6 Q2232.66 1538.71 2234.46 1542.27 Q2236.29 1545.82 2239.9 1545.82 Q2243.54 1545.82 2245.34 1542.27 Q2247.17 1538.71 2247.17 1531.6 Q2247.17 1524.47 2245.34 1520.93 Q2243.54 1517.37 2239.9 1517.37 M2239.9 1513.66 Q2245.71 1513.66 2248.77 1518.27 Q2251.85 1522.85 2251.85 1531.6 Q2251.85 1540.33 2248.77 1544.94 Q2245.71 1549.52 2239.9 1549.52 Q2234.09 1549.52 2231.01 1544.94 Q2227.96 1540.33 2227.96 1531.6 Q2227.96 1522.85 2231.01 1518.27 Q2234.09 1513.66 2239.9 1513.66 Z\" fill=\"#000000\" fill-rule=\"evenodd\" fill-opacity=\"1\" /><path clip-path=\"url(#clip380)\" d=\"M2270.06 1517.37 Q2266.45 1517.37 2264.62 1520.93 Q2262.82 1524.47 2262.82 1531.6 Q2262.82 1538.71 2264.62 1542.27 Q2266.45 1545.82 2270.06 1545.82 Q2273.7 1545.82 2275.5 1542.27 Q2277.33 1538.71 2277.33 1531.6 Q2277.33 1524.47 2275.5 1520.93 Q2273.7 1517.37 2270.06 1517.37 M2270.06 1513.66 Q2275.87 1513.66 2278.93 1518.27 Q2282.01 1522.85 2282.01 1531.6 Q2282.01 1540.33 2278.93 1544.94 Q2275.87 1549.52 2270.06 1549.52 Q2264.25 1549.52 2261.18 1544.94 Q2258.12 1540.33 2258.12 1531.6 Q2258.12 1522.85 2261.18 1518.27 Q2264.25 1513.66 2270.06 1513.66 Z\" fill=\"#000000\" fill-rule=\"evenodd\" fill-opacity=\"1\" /><polyline clip-path=\"url(#clip382)\" style=\"stroke:#000000; stroke-linecap:butt; stroke-linejoin:round; stroke-width:2; stroke-opacity:0.1; fill:none\" points=\"\n",
       "  336.246,1445.72 2352.76,1445.72 \n",
       "  \"/>\n",
       "<polyline clip-path=\"url(#clip382)\" style=\"stroke:#000000; stroke-linecap:butt; stroke-linejoin:round; stroke-width:2; stroke-opacity:0.1; fill:none\" points=\"\n",
       "  336.246,1122.44 2352.76,1122.44 \n",
       "  \"/>\n",
       "<polyline clip-path=\"url(#clip382)\" style=\"stroke:#000000; stroke-linecap:butt; stroke-linejoin:round; stroke-width:2; stroke-opacity:0.1; fill:none\" points=\"\n",
       "  336.246,799.173 2352.76,799.173 \n",
       "  \"/>\n",
       "<polyline clip-path=\"url(#clip382)\" style=\"stroke:#000000; stroke-linecap:butt; stroke-linejoin:round; stroke-width:2; stroke-opacity:0.1; fill:none\" points=\"\n",
       "  336.246,475.902 2352.76,475.902 \n",
       "  \"/>\n",
       "<polyline clip-path=\"url(#clip382)\" style=\"stroke:#000000; stroke-linecap:butt; stroke-linejoin:round; stroke-width:2; stroke-opacity:0.1; fill:none\" points=\"\n",
       "  336.246,152.631 2352.76,152.631 \n",
       "  \"/>\n",
       "<polyline clip-path=\"url(#clip380)\" style=\"stroke:#000000; stroke-linecap:butt; stroke-linejoin:round; stroke-width:4; stroke-opacity:1; fill:none\" points=\"\n",
       "  336.246,1486.45 336.246,47.2441 \n",
       "  \"/>\n",
       "<polyline clip-path=\"url(#clip380)\" style=\"stroke:#000000; stroke-linecap:butt; stroke-linejoin:round; stroke-width:4; stroke-opacity:1; fill:none\" points=\"\n",
       "  336.246,1445.72 355.143,1445.72 \n",
       "  \"/>\n",
       "<polyline clip-path=\"url(#clip380)\" style=\"stroke:#000000; stroke-linecap:butt; stroke-linejoin:round; stroke-width:4; stroke-opacity:1; fill:none\" points=\"\n",
       "  336.246,1122.44 355.143,1122.44 \n",
       "  \"/>\n",
       "<polyline clip-path=\"url(#clip380)\" style=\"stroke:#000000; stroke-linecap:butt; stroke-linejoin:round; stroke-width:4; stroke-opacity:1; fill:none\" points=\"\n",
       "  336.246,799.173 355.143,799.173 \n",
       "  \"/>\n",
       "<polyline clip-path=\"url(#clip380)\" style=\"stroke:#000000; stroke-linecap:butt; stroke-linejoin:round; stroke-width:4; stroke-opacity:1; fill:none\" points=\"\n",
       "  336.246,475.902 355.143,475.902 \n",
       "  \"/>\n",
       "<polyline clip-path=\"url(#clip380)\" style=\"stroke:#000000; stroke-linecap:butt; stroke-linejoin:round; stroke-width:4; stroke-opacity:1; fill:none\" points=\"\n",
       "  336.246,152.631 355.143,152.631 \n",
       "  \"/>\n",
       "<path clip-path=\"url(#clip380)\" d=\"M288.301 1431.51 Q284.69 1431.51 282.862 1435.08 Q281.056 1438.62 281.056 1445.75 Q281.056 1452.86 282.862 1456.42 Q284.69 1459.96 288.301 1459.96 Q291.936 1459.96 293.741 1456.42 Q295.57 1452.86 295.57 1445.75 Q295.57 1438.62 293.741 1435.08 Q291.936 1431.51 288.301 1431.51 M288.301 1427.81 Q294.111 1427.81 297.167 1432.42 Q300.246 1437 300.246 1445.75 Q300.246 1454.48 297.167 1459.08 Q294.111 1463.67 288.301 1463.67 Q282.491 1463.67 279.412 1459.08 Q276.357 1454.48 276.357 1445.75 Q276.357 1437 279.412 1432.42 Q282.491 1427.81 288.301 1427.81 Z\" fill=\"#000000\" fill-rule=\"evenodd\" fill-opacity=\"1\" /><path clip-path=\"url(#clip380)\" d=\"M53.5008 1111.61 L71.8572 1111.61 L71.8572 1115.55 L57.7832 1115.55 L57.7832 1124.02 Q58.8017 1123.67 59.8202 1123.51 Q60.8387 1123.32 61.8572 1123.32 Q67.6442 1123.32 71.0238 1126.5 Q74.4035 1129.67 74.4035 1135.08 Q74.4035 1140.66 70.9313 1143.76 Q67.4591 1146.84 61.1396 1146.84 Q58.9637 1146.84 56.6952 1146.47 Q54.4499 1146.1 52.0425 1145.36 L52.0425 1140.66 Q54.1258 1141.8 56.348 1142.35 Q58.5702 1142.91 61.047 1142.91 Q65.0517 1142.91 67.3896 1140.8 Q69.7276 1138.7 69.7276 1135.08 Q69.7276 1131.47 67.3896 1129.37 Q65.0517 1127.26 61.047 1127.26 Q59.1721 1127.26 57.2971 1127.68 Q55.4452 1128.09 53.5008 1128.97 L53.5008 1111.61 Z\" fill=\"#000000\" fill-rule=\"evenodd\" fill-opacity=\"1\" /><path clip-path=\"url(#clip380)\" d=\"M83.6164 1140.29 L88.5006 1140.29 L88.5006 1146.17 L83.6164 1146.17 L83.6164 1140.29 Z\" fill=\"#000000\" fill-rule=\"evenodd\" fill-opacity=\"1\" /><path clip-path=\"url(#clip380)\" d=\"M108.686 1114.69 Q105.075 1114.69 103.246 1118.26 Q101.44 1121.8 101.44 1128.93 Q101.44 1136.03 103.246 1139.6 Q105.075 1143.14 108.686 1143.14 Q112.32 1143.14 114.125 1139.6 Q115.954 1136.03 115.954 1128.93 Q115.954 1121.8 114.125 1118.26 Q112.32 1114.69 108.686 1114.69 M108.686 1110.99 Q114.496 1110.99 117.551 1115.59 Q120.63 1120.18 120.63 1128.93 Q120.63 1137.65 117.551 1142.26 Q114.496 1146.84 108.686 1146.84 Q102.876 1146.84 99.7968 1142.26 Q96.7413 1137.65 96.7413 1128.93 Q96.7413 1120.18 99.7968 1115.59 Q102.876 1110.99 108.686 1110.99 Z\" fill=\"#000000\" fill-rule=\"evenodd\" fill-opacity=\"1\" /><path clip-path=\"url(#clip380)\" d=\"M138.848 1114.69 Q135.236 1114.69 133.408 1118.26 Q131.602 1121.8 131.602 1128.93 Q131.602 1136.03 133.408 1139.6 Q135.236 1143.14 138.848 1143.14 Q142.482 1143.14 144.287 1139.6 Q146.116 1136.03 146.116 1128.93 Q146.116 1121.8 144.287 1118.26 Q142.482 1114.69 138.848 1114.69 M138.848 1110.99 Q144.658 1110.99 147.713 1115.59 Q150.792 1120.18 150.792 1128.93 Q150.792 1137.65 147.713 1142.26 Q144.658 1146.84 138.848 1146.84 Q133.037 1146.84 129.959 1142.26 Q126.903 1137.65 126.903 1128.93 Q126.903 1120.18 129.959 1115.59 Q133.037 1110.99 138.848 1110.99 Z\" fill=\"#000000\" fill-rule=\"evenodd\" fill-opacity=\"1\" /><path clip-path=\"url(#clip380)\" d=\"M187.181 1120.71 L176.602 1131.33 L187.181 1141.91 L184.426 1144.71 L173.801 1134.09 L163.176 1144.71 L160.445 1141.91 L171 1131.33 L160.445 1120.71 L163.176 1117.91 L173.801 1128.53 L184.426 1117.91 L187.181 1120.71 Z\" fill=\"#000000\" fill-rule=\"evenodd\" fill-opacity=\"1\" /><path clip-path=\"url(#clip380)\" d=\"M199.542 1142.24 L207.181 1142.24 L207.181 1115.87 L198.87 1117.54 L198.87 1113.28 L207.134 1111.61 L211.81 1111.61 L211.81 1142.24 L219.449 1142.24 L219.449 1146.17 L199.542 1146.17 L199.542 1142.24 Z\" fill=\"#000000\" fill-rule=\"evenodd\" fill-opacity=\"1\" /><path clip-path=\"url(#clip380)\" d=\"M238.893 1114.69 Q235.282 1114.69 233.454 1118.26 Q231.648 1121.8 231.648 1128.93 Q231.648 1136.03 233.454 1139.6 Q235.282 1143.14 238.893 1143.14 Q242.528 1143.14 244.333 1139.6 Q246.162 1136.03 246.162 1128.93 Q246.162 1121.8 244.333 1118.26 Q242.528 1114.69 238.893 1114.69 M238.893 1110.99 Q244.703 1110.99 247.759 1115.59 Q250.838 1120.18 250.838 1128.93 Q250.838 1137.65 247.759 1142.26 Q244.703 1146.84 238.893 1146.84 Q233.083 1146.84 230.004 1142.26 Q226.949 1137.65 226.949 1128.93 Q226.949 1120.18 230.004 1115.59 Q233.083 1110.99 238.893 1110.99 Z\" fill=\"#000000\" fill-rule=\"evenodd\" fill-opacity=\"1\" /><path clip-path=\"url(#clip380)\" d=\"M250.838 1105.09 L274.949 1105.09 L274.949 1108.29 L250.838 1108.29 L250.838 1105.09 Z\" fill=\"#000000\" fill-rule=\"evenodd\" fill-opacity=\"1\" /><path clip-path=\"url(#clip380)\" d=\"M282.19 1090.68 L300.246 1090.68 L300.246 1092.3 L290.052 1118.76 L286.083 1118.76 L295.675 1093.88 L282.19 1093.88 L282.19 1090.68 Z\" fill=\"#000000\" fill-rule=\"evenodd\" fill-opacity=\"1\" /><path clip-path=\"url(#clip380)\" d=\"M53.3995 818.966 L61.0384 818.966 L61.0384 792.6 L52.7282 794.267 L52.7282 790.007 L60.9921 788.341 L65.668 788.341 L65.668 818.966 L73.3068 818.966 L73.3068 822.901 L53.3995 822.901 L53.3995 818.966 Z\" fill=\"#000000\" fill-rule=\"evenodd\" fill-opacity=\"1\" /><path clip-path=\"url(#clip380)\" d=\"M82.7512 817.021 L87.6354 817.021 L87.6354 822.901 L82.7512 822.901 L82.7512 817.021 Z\" fill=\"#000000\" fill-rule=\"evenodd\" fill-opacity=\"1\" /><path clip-path=\"url(#clip380)\" d=\"M107.821 791.419 Q104.209 791.419 102.381 794.984 Q100.575 798.526 100.575 805.655 Q100.575 812.762 102.381 816.327 Q104.209 819.868 107.821 819.868 Q111.455 819.868 113.26 816.327 Q115.089 812.762 115.089 805.655 Q115.089 798.526 113.26 794.984 Q111.455 791.419 107.821 791.419 M107.821 787.716 Q113.631 787.716 116.686 792.322 Q119.765 796.905 119.765 805.655 Q119.765 814.382 116.686 818.989 Q113.631 823.572 107.821 823.572 Q102.01 823.572 98.9317 818.989 Q95.8761 814.382 95.8761 805.655 Q95.8761 796.905 98.9317 792.322 Q102.01 787.716 107.821 787.716 Z\" fill=\"#000000\" fill-rule=\"evenodd\" fill-opacity=\"1\" /><path clip-path=\"url(#clip380)\" d=\"M137.982 791.419 Q134.371 791.419 132.543 794.984 Q130.737 798.526 130.737 805.655 Q130.737 812.762 132.543 816.327 Q134.371 819.868 137.982 819.868 Q141.617 819.868 143.422 816.327 Q145.251 812.762 145.251 805.655 Q145.251 798.526 143.422 794.984 Q141.617 791.419 137.982 791.419 M137.982 787.716 Q143.793 787.716 146.848 792.322 Q149.927 796.905 149.927 805.655 Q149.927 814.382 146.848 818.989 Q143.793 823.572 137.982 823.572 Q132.172 823.572 129.094 818.989 Q126.038 814.382 126.038 805.655 Q126.038 796.905 129.094 792.322 Q132.172 787.716 137.982 787.716 Z\" fill=\"#000000\" fill-rule=\"evenodd\" fill-opacity=\"1\" /><path clip-path=\"url(#clip380)\" d=\"M186.315 797.438 L175.737 808.063 L186.315 818.641 L183.561 821.442 L172.936 810.817 L162.311 821.442 L159.58 818.641 L170.135 808.063 L159.58 797.438 L162.311 794.637 L172.936 805.262 L183.561 794.637 L186.315 797.438 Z\" fill=\"#000000\" fill-rule=\"evenodd\" fill-opacity=\"1\" /><path clip-path=\"url(#clip380)\" d=\"M198.677 818.966 L206.315 818.966 L206.315 792.6 L198.005 794.267 L198.005 790.007 L206.269 788.341 L210.945 788.341 L210.945 818.966 L218.584 818.966 L218.584 822.901 L198.677 822.901 L198.677 818.966 Z\" fill=\"#000000\" fill-rule=\"evenodd\" fill-opacity=\"1\" /><path clip-path=\"url(#clip380)\" d=\"M238.028 791.419 Q234.417 791.419 232.588 794.984 Q230.783 798.526 230.783 805.655 Q230.783 812.762 232.588 816.327 Q234.417 819.868 238.028 819.868 Q241.662 819.868 243.468 816.327 Q245.297 812.762 245.297 805.655 Q245.297 798.526 243.468 794.984 Q241.662 791.419 238.028 791.419 M238.028 787.716 Q243.838 787.716 246.894 792.322 Q249.973 796.905 249.973 805.655 Q249.973 814.382 246.894 818.989 Q243.838 823.572 238.028 823.572 Q232.218 823.572 229.139 818.989 Q226.084 814.382 226.084 805.655 Q226.084 796.905 229.139 792.322 Q232.218 787.716 238.028 787.716 Z\" fill=\"#000000\" fill-rule=\"evenodd\" fill-opacity=\"1\" /><path clip-path=\"url(#clip380)\" d=\"M249.973 781.817 L274.084 781.817 L274.084 785.014 L249.973 785.014 L249.973 781.817 Z\" fill=\"#000000\" fill-rule=\"evenodd\" fill-opacity=\"1\" /><path clip-path=\"url(#clip380)\" d=\"M290.879 779.936 Q288.322 779.936 286.817 781.685 Q285.331 783.435 285.331 786.481 Q285.331 789.509 286.817 791.277 Q288.322 793.026 290.879 793.026 Q293.437 793.026 294.923 791.277 Q296.428 789.509 296.428 786.481 Q296.428 783.435 294.923 781.685 Q293.437 779.936 290.879 779.936 M298.421 768.031 L298.421 771.492 Q296.992 770.815 295.525 770.457 Q294.077 770.1 292.647 770.1 Q288.886 770.1 286.892 772.639 Q284.917 775.178 284.635 780.312 Q285.745 778.676 287.419 777.811 Q289.093 776.927 291.105 776.927 Q295.337 776.927 297.782 779.504 Q300.246 782.062 300.246 786.481 Q300.246 790.807 297.688 793.421 Q295.13 796.036 290.879 796.036 Q286.008 796.036 283.432 792.312 Q280.855 788.569 280.855 781.479 Q280.855 774.821 284.015 770.871 Q287.174 766.903 292.497 766.903 Q293.926 766.903 295.374 767.185 Q296.842 767.467 298.421 768.031 Z\" fill=\"#000000\" fill-rule=\"evenodd\" fill-opacity=\"1\" /><path clip-path=\"url(#clip380)\" d=\"M53.3995 495.694 L61.0384 495.694 L61.0384 469.329 L52.7282 470.995 L52.7282 466.736 L60.9921 465.069 L65.668 465.069 L65.668 495.694 L73.3068 495.694 L73.3068 499.629 L53.3995 499.629 L53.3995 495.694 Z\" fill=\"#000000\" fill-rule=\"evenodd\" fill-opacity=\"1\" /><path clip-path=\"url(#clip380)\" d=\"M82.7512 493.75 L87.6354 493.75 L87.6354 499.629 L82.7512 499.629 L82.7512 493.75 Z\" fill=\"#000000\" fill-rule=\"evenodd\" fill-opacity=\"1\" /><path clip-path=\"url(#clip380)\" d=\"M97.8669 465.069 L116.223 465.069 L116.223 469.005 L102.149 469.005 L102.149 477.477 Q103.168 477.13 104.186 476.968 Q105.205 476.782 106.223 476.782 Q112.01 476.782 115.39 479.954 Q118.77 483.125 118.77 488.542 Q118.77 494.12 115.297 497.222 Q111.825 500.301 105.506 500.301 Q103.33 500.301 101.061 499.93 Q98.8159 499.56 96.4085 498.819 L96.4085 494.12 Q98.4919 495.254 100.714 495.81 Q102.936 496.366 105.413 496.366 Q109.418 496.366 111.756 494.259 Q114.094 492.153 114.094 488.542 Q114.094 484.93 111.756 482.824 Q109.418 480.717 105.413 480.717 Q103.538 480.717 101.663 481.134 Q99.8113 481.551 97.8669 482.43 L97.8669 465.069 Z\" fill=\"#000000\" fill-rule=\"evenodd\" fill-opacity=\"1\" /><path clip-path=\"url(#clip380)\" d=\"M137.982 468.148 Q134.371 468.148 132.543 471.713 Q130.737 475.255 130.737 482.384 Q130.737 489.491 132.543 493.055 Q134.371 496.597 137.982 496.597 Q141.617 496.597 143.422 493.055 Q145.251 489.491 145.251 482.384 Q145.251 475.255 143.422 471.713 Q141.617 468.148 137.982 468.148 M137.982 464.444 Q143.793 464.444 146.848 469.051 Q149.927 473.634 149.927 482.384 Q149.927 491.111 146.848 495.717 Q143.793 500.301 137.982 500.301 Q132.172 500.301 129.094 495.717 Q126.038 491.111 126.038 482.384 Q126.038 473.634 129.094 469.051 Q132.172 464.444 137.982 464.444 Z\" fill=\"#000000\" fill-rule=\"evenodd\" fill-opacity=\"1\" /><path clip-path=\"url(#clip380)\" d=\"M186.315 474.167 L175.737 484.792 L186.315 495.37 L183.561 498.171 L172.936 487.546 L162.311 498.171 L159.58 495.37 L170.135 484.792 L159.58 474.167 L162.311 471.366 L172.936 481.991 L183.561 471.366 L186.315 474.167 Z\" fill=\"#000000\" fill-rule=\"evenodd\" fill-opacity=\"1\" /><path clip-path=\"url(#clip380)\" d=\"M198.677 495.694 L206.315 495.694 L206.315 469.329 L198.005 470.995 L198.005 466.736 L206.269 465.069 L210.945 465.069 L210.945 495.694 L218.584 495.694 L218.584 499.629 L198.677 499.629 L198.677 495.694 Z\" fill=\"#000000\" fill-rule=\"evenodd\" fill-opacity=\"1\" /><path clip-path=\"url(#clip380)\" d=\"M238.028 468.148 Q234.417 468.148 232.588 471.713 Q230.783 475.255 230.783 482.384 Q230.783 489.491 232.588 493.055 Q234.417 496.597 238.028 496.597 Q241.662 496.597 243.468 493.055 Q245.297 489.491 245.297 482.384 Q245.297 475.255 243.468 471.713 Q241.662 468.148 238.028 468.148 M238.028 464.444 Q243.838 464.444 246.894 469.051 Q249.973 473.634 249.973 482.384 Q249.973 491.111 246.894 495.717 Q243.838 500.301 238.028 500.301 Q232.218 500.301 229.139 495.717 Q226.084 491.111 226.084 482.384 Q226.084 473.634 229.139 469.051 Q232.218 464.444 238.028 464.444 Z\" fill=\"#000000\" fill-rule=\"evenodd\" fill-opacity=\"1\" /><path clip-path=\"url(#clip380)\" d=\"M249.973 458.546 L274.084 458.546 L274.084 461.743 L249.973 461.743 L249.973 458.546 Z\" fill=\"#000000\" fill-rule=\"evenodd\" fill-opacity=\"1\" /><path clip-path=\"url(#clip380)\" d=\"M290.879 456.665 Q288.322 456.665 286.817 458.414 Q285.331 460.163 285.331 463.21 Q285.331 466.238 286.817 468.006 Q288.322 469.755 290.879 469.755 Q293.437 469.755 294.923 468.006 Q296.428 466.238 296.428 463.21 Q296.428 460.163 294.923 458.414 Q293.437 456.665 290.879 456.665 M298.421 444.76 L298.421 448.22 Q296.992 447.543 295.525 447.186 Q294.077 446.829 292.647 446.829 Q288.886 446.829 286.892 449.368 Q284.917 451.907 284.635 457.041 Q285.745 455.405 287.419 454.54 Q289.093 453.656 291.105 453.656 Q295.337 453.656 297.782 456.232 Q300.246 458.79 300.246 463.21 Q300.246 467.536 297.688 470.15 Q295.13 472.764 290.879 472.764 Q286.008 472.764 283.432 469.041 Q280.855 465.298 280.855 458.207 Q280.855 451.549 284.015 447.6 Q287.174 443.631 292.497 443.631 Q293.926 443.631 295.374 443.913 Q296.842 444.195 298.421 444.76 Z\" fill=\"#000000\" fill-rule=\"evenodd\" fill-opacity=\"1\" /><path clip-path=\"url(#clip380)\" d=\"M56.6171 172.423 L72.9365 172.423 L72.9365 176.358 L50.9921 176.358 L50.9921 172.423 Q53.6541 169.668 58.2375 165.039 Q62.8439 160.386 64.0245 159.043 Q66.2698 156.52 67.1494 154.784 Q68.0522 153.025 68.0522 151.335 Q68.0522 148.581 66.1078 146.844 Q64.1865 145.108 61.0847 145.108 Q58.8856 145.108 56.4319 145.872 Q54.0014 146.636 51.2236 148.187 L51.2236 143.465 Q54.0477 142.331 56.5014 141.752 Q58.955 141.173 60.9921 141.173 Q66.3624 141.173 69.5568 143.858 Q72.7513 146.543 72.7513 151.034 Q72.7513 153.164 71.9411 155.085 Q71.1541 156.983 69.0476 159.576 Q68.4689 160.247 65.367 163.465 Q62.2652 166.659 56.6171 172.423 Z\" fill=\"#000000\" fill-rule=\"evenodd\" fill-opacity=\"1\" /><path clip-path=\"url(#clip380)\" d=\"M82.7512 170.479 L87.6354 170.479 L87.6354 176.358 L82.7512 176.358 L82.7512 170.479 Z\" fill=\"#000000\" fill-rule=\"evenodd\" fill-opacity=\"1\" /><path clip-path=\"url(#clip380)\" d=\"M107.821 144.877 Q104.209 144.877 102.381 148.442 Q100.575 151.983 100.575 159.113 Q100.575 166.219 102.381 169.784 Q104.209 173.326 107.821 173.326 Q111.455 173.326 113.26 169.784 Q115.089 166.219 115.089 159.113 Q115.089 151.983 113.26 148.442 Q111.455 144.877 107.821 144.877 M107.821 141.173 Q113.631 141.173 116.686 145.78 Q119.765 150.363 119.765 159.113 Q119.765 167.84 116.686 172.446 Q113.631 177.029 107.821 177.029 Q102.01 177.029 98.9317 172.446 Q95.8761 167.84 95.8761 159.113 Q95.8761 150.363 98.9317 145.78 Q102.01 141.173 107.821 141.173 Z\" fill=\"#000000\" fill-rule=\"evenodd\" fill-opacity=\"1\" /><path clip-path=\"url(#clip380)\" d=\"M137.982 144.877 Q134.371 144.877 132.543 148.442 Q130.737 151.983 130.737 159.113 Q130.737 166.219 132.543 169.784 Q134.371 173.326 137.982 173.326 Q141.617 173.326 143.422 169.784 Q145.251 166.219 145.251 159.113 Q145.251 151.983 143.422 148.442 Q141.617 144.877 137.982 144.877 M137.982 141.173 Q143.793 141.173 146.848 145.78 Q149.927 150.363 149.927 159.113 Q149.927 167.84 146.848 172.446 Q143.793 177.029 137.982 177.029 Q132.172 177.029 129.094 172.446 Q126.038 167.84 126.038 159.113 Q126.038 150.363 129.094 145.78 Q132.172 141.173 137.982 141.173 Z\" fill=\"#000000\" fill-rule=\"evenodd\" fill-opacity=\"1\" /><path clip-path=\"url(#clip380)\" d=\"M186.315 150.895 L175.737 161.52 L186.315 172.099 L183.561 174.9 L172.936 164.275 L162.311 174.9 L159.58 172.099 L170.135 161.52 L159.58 150.895 L162.311 148.094 L172.936 158.719 L183.561 148.094 L186.315 150.895 Z\" fill=\"#000000\" fill-rule=\"evenodd\" fill-opacity=\"1\" /><path clip-path=\"url(#clip380)\" d=\"M198.677 172.423 L206.315 172.423 L206.315 146.057 L198.005 147.724 L198.005 143.465 L206.269 141.798 L210.945 141.798 L210.945 172.423 L218.584 172.423 L218.584 176.358 L198.677 176.358 L198.677 172.423 Z\" fill=\"#000000\" fill-rule=\"evenodd\" fill-opacity=\"1\" /><path clip-path=\"url(#clip380)\" d=\"M238.028 144.877 Q234.417 144.877 232.588 148.442 Q230.783 151.983 230.783 159.113 Q230.783 166.219 232.588 169.784 Q234.417 173.326 238.028 173.326 Q241.662 173.326 243.468 169.784 Q245.297 166.219 245.297 159.113 Q245.297 151.983 243.468 148.442 Q241.662 144.877 238.028 144.877 M238.028 141.173 Q243.838 141.173 246.894 145.78 Q249.973 150.363 249.973 159.113 Q249.973 167.84 246.894 172.446 Q243.838 177.029 238.028 177.029 Q232.218 177.029 229.139 172.446 Q226.084 167.84 226.084 159.113 Q226.084 150.363 229.139 145.78 Q232.218 141.173 238.028 141.173 Z\" fill=\"#000000\" fill-rule=\"evenodd\" fill-opacity=\"1\" /><path clip-path=\"url(#clip380)\" d=\"M249.973 135.274 L274.084 135.274 L274.084 138.472 L249.973 138.472 L249.973 135.274 Z\" fill=\"#000000\" fill-rule=\"evenodd\" fill-opacity=\"1\" /><path clip-path=\"url(#clip380)\" d=\"M290.879 133.394 Q288.322 133.394 286.817 135.143 Q285.331 136.892 285.331 139.939 Q285.331 142.967 286.817 144.735 Q288.322 146.484 290.879 146.484 Q293.437 146.484 294.923 144.735 Q296.428 142.967 296.428 139.939 Q296.428 136.892 294.923 135.143 Q293.437 133.394 290.879 133.394 M298.421 121.488 L298.421 124.949 Q296.992 124.272 295.525 123.915 Q294.077 123.557 292.647 123.557 Q288.886 123.557 286.892 126.096 Q284.917 128.635 284.635 133.77 Q285.745 132.134 287.419 131.268 Q289.093 130.384 291.105 130.384 Q295.337 130.384 297.782 132.961 Q300.246 135.519 300.246 139.939 Q300.246 144.265 297.688 146.879 Q295.13 149.493 290.879 149.493 Q286.008 149.493 283.432 145.769 Q280.855 142.026 280.855 134.936 Q280.855 128.278 284.015 124.328 Q287.174 120.36 292.497 120.36 Q293.926 120.36 295.374 120.642 Q296.842 120.924 298.421 121.488 Z\" fill=\"#000000\" fill-rule=\"evenodd\" fill-opacity=\"1\" /><polyline clip-path=\"url(#clip382)\" style=\"stroke:#009af9; stroke-linecap:butt; stroke-linejoin:round; stroke-width:4; stroke-opacity:1; fill:none\" points=\"\n",
       "  393.317,87.9763 397.018,1251.75 400.719,1316.41 404.42,1122.44 408.121,1381.06 411.822,1316.41 415.523,1445.72 419.224,1251.75 422.926,1381.06 426.627,1381.06 \n",
       "  430.328,1316.41 434.029,1316.41 437.73,1381.06 441.431,1316.41 445.132,1316.41 448.833,1381.06 452.534,1381.06 456.236,1381.06 459.937,1316.41 463.638,1316.41 \n",
       "  467.339,1381.06 471.04,1122.44 474.741,1381.06 478.442,1316.41 482.143,1381.06 485.844,1316.41 489.545,1381.06 493.247,1381.06 496.948,1381.06 500.649,1316.41 \n",
       "  504.35,1381.06 508.051,1381.06 511.752,1381.06 515.453,1316.41 519.154,1381.06 522.855,1381.06 526.557,1381.06 530.258,1381.06 533.959,1381.06 537.66,1316.41 \n",
       "  541.361,1381.06 545.062,1316.41 548.763,1381.06 552.464,1381.06 556.165,1316.41 559.866,1381.06 563.568,1381.06 567.269,1316.41 570.97,1381.06 574.671,1381.06 \n",
       "  578.372,1381.06 582.073,1381.06 585.774,1187.1 589.475,1316.41 593.176,1316.41 596.878,1381.06 600.579,1445.72 604.28,1381.06 607.981,1251.75 611.682,1251.75 \n",
       "  615.383,1381.06 619.084,1381.06 622.785,1381.06 626.486,1381.06 630.187,1316.41 633.889,1445.72 637.59,1381.06 641.291,1381.06 644.992,1381.06 648.693,1381.06 \n",
       "  652.394,1316.41 656.095,1381.06 659.796,1316.41 663.497,1316.41 667.199,1381.06 670.9,1251.75 674.601,1381.06 678.302,1381.06 682.003,1381.06 685.704,1381.06 \n",
       "  689.405,1381.06 693.106,1381.06 696.807,993.136 700.508,1381.06 704.21,1381.06 707.911,1381.06 711.612,1381.06 715.313,1381.06 719.014,1316.41 722.715,1381.06 \n",
       "  726.416,1316.41 730.117,1381.06 733.818,1316.41 737.52,1381.06 741.221,1316.41 744.922,1381.06 748.623,1381.06 752.324,1316.41 756.025,1316.41 759.726,1316.41 \n",
       "  763.427,1381.06 767.128,1381.06 770.829,1316.41 774.531,1381.06 778.232,1381.06 781.933,1381.06 785.634,1381.06 789.335,1381.06 793.036,1316.41 796.737,1381.06 \n",
       "  800.438,1316.41 804.139,1381.06 807.841,1381.06 811.542,1381.06 815.243,1316.41 818.944,1381.06 822.645,1381.06 826.346,1381.06 830.047,1316.41 833.748,1381.06 \n",
       "  837.449,1316.41 841.15,1381.06 844.852,1381.06 848.553,1381.06 852.254,1381.06 855.955,1316.41 859.656,1381.06 863.357,1381.06 867.058,1381.06 870.759,1381.06 \n",
       "  874.46,1381.06 878.162,1381.06 881.863,1316.41 885.564,1381.06 889.265,1381.06 892.966,1381.06 896.667,1381.06 900.368,1381.06 904.069,1316.41 907.77,1316.41 \n",
       "  911.471,1381.06 915.173,1381.06 918.874,1316.41 922.575,1381.06 926.276,1316.41 929.977,1122.44 933.678,1381.06 937.379,1445.72 941.08,1316.41 944.781,1316.41 \n",
       "  948.483,1445.72 952.184,1381.06 955.885,1445.72 959.586,1381.06 963.287,1381.06 966.988,1316.41 970.689,1381.06 974.39,1381.06 978.091,1381.06 981.792,1381.06 \n",
       "  985.494,1381.06 989.195,1316.41 992.896,1381.06 996.597,1381.06 1000.3,1381.06 1004,1381.06 1007.7,1381.06 1011.4,1381.06 1015.1,1445.72 1018.8,1381.06 \n",
       "  1022.5,1251.75 1026.21,1381.06 1029.91,1381.06 1033.61,1381.06 1037.31,1316.41 1041.01,1381.06 1044.71,1381.06 1048.41,1445.72 1052.11,1381.06 1055.81,1381.06 \n",
       "  1059.52,1381.06 1063.22,1381.06 1066.92,1381.06 1070.62,1381.06 1074.32,1381.06 1078.02,1381.06 1081.72,1381.06 1085.42,1381.06 1089.12,1381.06 1092.83,1381.06 \n",
       "  1096.53,1381.06 1100.23,1316.41 1103.93,1381.06 1107.63,1381.06 1111.33,1381.06 1115.03,1381.06 1118.73,1381.06 1122.43,1381.06 1126.14,1381.06 1129.84,1381.06 \n",
       "  1133.54,1381.06 1137.24,1381.06 1140.94,1445.72 1144.64,1381.06 1148.34,1381.06 1152.04,1381.06 1155.74,1381.06 1159.45,1381.06 1163.15,1316.41 1166.85,1381.06 \n",
       "  1170.55,1381.06 1174.25,1445.72 1177.95,1381.06 1181.65,1445.72 1185.35,1445.72 1189.05,1381.06 1192.76,1381.06 1196.46,1381.06 1200.16,1316.41 1203.86,1381.06 \n",
       "  1207.56,1381.06 1211.26,1381.06 1214.96,1381.06 1218.66,1381.06 1222.36,1381.06 1226.07,1381.06 1229.77,1381.06 1233.47,1381.06 1237.17,1381.06 1240.87,1381.06 \n",
       "  1244.57,1381.06 1248.27,1381.06 1251.97,1445.72 1255.67,1381.06 1259.38,1381.06 1263.08,1381.06 1266.78,1316.41 1270.48,1381.06 1274.18,1316.41 1277.88,1316.41 \n",
       "  1281.58,1316.41 1285.28,1445.72 1288.98,1381.06 1292.69,1381.06 1296.39,1381.06 1300.09,1316.41 1303.79,1381.06 1307.49,1381.06 1311.19,1381.06 1314.89,1381.06 \n",
       "  1318.59,1381.06 1322.29,1381.06 1326,1381.06 1329.7,1381.06 1333.4,1381.06 1337.1,1381.06 1340.8,1381.06 1344.5,1316.41 1348.2,1251.75 1351.9,1381.06 \n",
       "  1355.6,1381.06 1359.31,993.136 1363.01,1381.06 1366.71,1316.41 1370.41,1445.72 1374.11,1316.41 1377.81,1381.06 1381.51,1381.06 1385.21,1381.06 1388.91,1381.06 \n",
       "  1392.62,1381.06 1396.32,1381.06 1400.02,1251.75 1403.72,1381.06 1407.42,1316.41 1411.12,1381.06 1414.82,1381.06 1418.52,1316.41 1422.22,1316.41 1425.93,1251.75 \n",
       "  1429.63,1381.06 1433.33,1316.41 1437.03,1316.41 1440.73,1381.06 1444.43,1316.41 1448.13,1381.06 1451.83,1445.72 1455.53,1381.06 1459.24,1381.06 1462.94,1381.06 \n",
       "  1466.64,1381.06 1470.34,1381.06 1474.04,1381.06 1477.74,1381.06 1481.44,1381.06 1485.14,1381.06 1488.84,1381.06 1492.55,1381.06 1496.25,1381.06 1499.95,1381.06 \n",
       "  1503.65,1381.06 1507.35,1316.41 1511.05,1381.06 1514.75,1381.06 1518.45,1381.06 1522.15,1381.06 1525.85,1381.06 1529.56,1381.06 1533.26,1381.06 1536.96,1381.06 \n",
       "  1540.66,1381.06 1544.36,1381.06 1548.06,1381.06 1551.76,1316.41 1555.46,1381.06 1559.16,1381.06 1562.87,1316.41 1566.57,1381.06 1570.27,1316.41 1573.97,1381.06 \n",
       "  1577.67,1381.06 1581.37,1381.06 1585.07,1381.06 1588.77,1381.06 1592.47,1381.06 1596.18,1381.06 1599.88,1381.06 1603.58,1381.06 1607.28,1445.72 1610.98,1381.06 \n",
       "  1614.68,1381.06 1618.38,1445.72 1622.08,1381.06 1625.78,1381.06 1629.49,1381.06 1633.19,1381.06 1636.89,1381.06 1640.59,1381.06 1644.29,1381.06 1647.99,1445.72 \n",
       "  1651.69,1316.41 1655.39,1381.06 1659.09,1381.06 1662.8,1381.06 1666.5,1381.06 1670.2,1381.06 1673.9,1381.06 1677.6,1381.06 1681.3,1381.06 1685,1381.06 \n",
       "  1688.7,1316.41 1692.4,1381.06 1696.11,1381.06 1699.81,1122.44 1703.51,1381.06 1707.21,1381.06 1710.91,1381.06 1714.61,1381.06 1718.31,1381.06 1722.01,1445.72 \n",
       "  1725.71,1381.06 1729.42,1381.06 1733.12,1381.06 1736.82,1381.06 1740.52,1381.06 1744.22,1381.06 1747.92,1381.06 1751.62,1381.06 1755.32,1381.06 1759.02,1381.06 \n",
       "  1762.73,1381.06 1766.43,1381.06 1770.13,1381.06 1773.83,1381.06 1777.53,1381.06 1781.23,1381.06 1784.93,1381.06 1788.63,1445.72 1792.33,1381.06 1796.04,1381.06 \n",
       "  1799.74,1381.06 1803.44,1381.06 1807.14,1445.72 1810.84,1445.72 1814.54,1445.72 1818.24,1381.06 1821.94,1381.06 1825.64,1445.72 1829.35,1381.06 1833.05,1381.06 \n",
       "  1836.75,1381.06 1840.45,1381.06 1844.15,1381.06 1847.85,1381.06 1851.55,1316.41 1855.25,1381.06 1858.95,1381.06 1862.66,1316.41 1866.36,1381.06 1870.06,1381.06 \n",
       "  1873.76,1381.06 1877.46,1381.06 1881.16,1381.06 1884.86,1381.06 1888.56,1381.06 1892.26,1381.06 1895.97,1381.06 1899.67,1445.72 1903.37,1445.72 1907.07,1381.06 \n",
       "  1910.77,1381.06 1914.47,1381.06 1918.17,1381.06 1921.87,1381.06 1925.57,1381.06 1929.28,1381.06 1932.98,1381.06 1936.68,1316.41 1940.38,1381.06 1944.08,1381.06 \n",
       "  1947.78,1381.06 1951.48,1381.06 1955.18,1381.06 1958.88,1381.06 1962.59,1381.06 1966.29,1316.41 1969.99,1381.06 1973.69,1381.06 1977.39,1316.41 1981.09,1381.06 \n",
       "  1984.79,1381.06 1988.49,1381.06 1992.19,1381.06 1995.9,1381.06 1999.6,1381.06 2003.3,1445.72 2007,1381.06 2010.7,1381.06 2014.4,1381.06 2018.1,1381.06 \n",
       "  2021.8,1381.06 2025.5,1381.06 2029.21,1381.06 2032.91,1381.06 2036.61,1381.06 2040.31,1316.41 2044.01,1381.06 2047.71,1381.06 2051.41,1381.06 2055.11,1381.06 \n",
       "  2058.81,1381.06 2062.52,1381.06 2066.22,1381.06 2069.92,1381.06 2073.62,1445.72 2077.32,1381.06 2081.02,1445.72 2084.72,1381.06 2088.42,1381.06 2092.12,1381.06 \n",
       "  2095.83,1381.06 2099.53,1316.41 2103.23,1381.06 2106.93,1381.06 2110.63,1381.06 2114.33,1381.06 2118.03,1381.06 2121.73,1381.06 2125.43,1445.72 2129.14,1381.06 \n",
       "  2132.84,1381.06 2136.54,1381.06 2140.24,1381.06 2143.94,1381.06 2147.64,1381.06 2151.34,1381.06 2155.04,1316.41 2158.74,1381.06 2162.45,1381.06 2166.15,1381.06 \n",
       "  2169.85,1381.06 2173.55,1381.06 2177.25,1381.06 2180.95,1381.06 2184.65,1381.06 2188.35,1381.06 2192.05,1445.72 2195.76,1381.06 2199.46,1381.06 2203.16,1381.06 \n",
       "  2206.86,1381.06 2210.56,1381.06 2214.26,1445.72 2217.96,1381.06 2221.66,1381.06 2225.36,1381.06 2229.06,1381.06 2232.77,1316.41 2236.47,1381.06 2240.17,1381.06 \n",
       "  2243.87,1381.06 2247.57,1381.06 2251.27,1381.06 2254.97,1381.06 2258.67,1381.06 2262.37,1381.06 2266.08,1381.06 2269.78,1381.06 2273.48,1381.06 2277.18,1381.06 \n",
       "  2280.88,1381.06 2284.58,1381.06 2288.28,1381.06 2291.98,1381.06 2295.68,1381.06 \n",
       "  \"/>\n",
       "<path clip-path=\"url(#clip380)\" d=\"\n",
       "M2009.05 198.898 L2285.54 198.898 L2285.54 95.2176 L2009.05 95.2176  Z\n",
       "  \" fill=\"#ffffff\" fill-rule=\"evenodd\" fill-opacity=\"1\"/>\n",
       "<polyline clip-path=\"url(#clip380)\" style=\"stroke:#000000; stroke-linecap:butt; stroke-linejoin:round; stroke-width:4; stroke-opacity:1; fill:none\" points=\"\n",
       "  2009.05,198.898 2285.54,198.898 2285.54,95.2176 2009.05,95.2176 2009.05,198.898 \n",
       "  \"/>\n",
       "<polyline clip-path=\"url(#clip380)\" style=\"stroke:#009af9; stroke-linecap:butt; stroke-linejoin:round; stroke-width:4; stroke-opacity:1; fill:none\" points=\"\n",
       "  2031.46,147.058 2165.89,147.058 \n",
       "  \"/>\n",
       "<path clip-path=\"url(#clip380)\" d=\"M2202.14 166.745 Q2200.33 171.375 2198.62 172.787 Q2196.91 174.199 2194.04 174.199 L2190.64 174.199 L2190.64 170.634 L2193.14 170.634 Q2194.89 170.634 2195.87 169.8 Q2196.84 168.967 2198.02 165.865 L2198.78 163.921 L2188.3 138.412 L2192.81 138.412 L2200.91 158.689 L2209.01 138.412 L2213.53 138.412 L2202.14 166.745 Z\" fill=\"#000000\" fill-rule=\"evenodd\" fill-opacity=\"1\" /><path clip-path=\"url(#clip380)\" d=\"M2220.82 160.402 L2228.46 160.402 L2228.46 134.037 L2220.15 135.703 L2220.15 131.444 L2228.41 129.778 L2233.09 129.778 L2233.09 160.402 L2240.73 160.402 L2240.73 164.338 L2220.82 164.338 L2220.82 160.402 Z\" fill=\"#000000\" fill-rule=\"evenodd\" fill-opacity=\"1\" /></svg>\n"
      ]
     },
     "execution_count": 15,
     "metadata": {},
     "output_type": "execute_result"
    }
   ],
   "source": [
    "@show t[1]\n",
    "@show t[2]\n",
    "plot(1:length(t), t)\n"
   ]
  },
  {
   "cell_type": "markdown",
   "id": "2fd2b936",
   "metadata": {},
   "source": [
    "### "
   ]
  }
 ],
 "metadata": {
  "kernelspec": {
   "display_name": "Julia 1.7.2",
   "language": "julia",
   "name": "julia-1.7"
  },
  "language_info": {
   "file_extension": ".jl",
   "mimetype": "application/julia",
   "name": "julia",
   "version": "1.7.2"
  }
 },
 "nbformat": 4,
 "nbformat_minor": 5
}
